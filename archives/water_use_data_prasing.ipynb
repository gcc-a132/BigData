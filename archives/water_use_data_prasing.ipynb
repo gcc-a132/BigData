{
 "cells": [
  {
   "cell_type": "markdown",
   "metadata": {},
   "source": [
    "# Week 3 - Day 2 - Exercise #1 - Project Pre-Work\n",
    "#### Data Source: https://waterdata.usgs.gov/ut/nwis/water_use?wu_year=ALL&wu_area=County&wu_county=ALL&wu_category=ALL&submitted_form=introduction&wu_county_nms=--ALL+Counties--&wu_category_nms=--ALL+Categories--"
   ]
  },
  {
   "cell_type": "markdown",
   "metadata": {},
   "source": [
    "#### Open the file in notepad to see the layout.\n",
    "#### Notice that there are several lines of data that we don't need to load into this dataset. Therefore, we will skip some of them."
   ]
  },
  {
   "cell_type": "code",
   "execution_count": null,
   "metadata": {},
   "outputs": [],
   "source": [
    "import numpy as np"
   ]
  },
  {
   "cell_type": "code",
   "execution_count": null,
   "metadata": {},
   "outputs": [],
   "source": [
    "import pandas as pd\n",
    "df = pd.read_csv('water_use.txt', sep='\\t', error_bad_lines=False, skiprows=range(0, 311))"
   ]
  },
  {
   "cell_type": "markdown",
   "metadata": {},
   "source": [
    "#### If the data doesn't load correctly it can be useful to review the documentation to see what options there could be for loading the data.\n"
   ]
  },
  {
   "cell_type": "code",
   "execution_count": null,
   "metadata": {},
   "outputs": [],
   "source": [
    "help(pd.read_csv)"
   ]
  },
  {
   "cell_type": "code",
   "execution_count": null,
   "metadata": {},
   "outputs": [],
   "source": [
    "df.shape"
   ]
  },
  {
   "cell_type": "code",
   "execution_count": null,
   "metadata": {},
   "outputs": [],
   "source": [
    "df.head()"
   ]
  },
  {
   "cell_type": "code",
   "execution_count": null,
   "metadata": {},
   "outputs": [],
   "source": [
    "df = df.drop(0)\n",
    "df.to_csv('water_use.csv')"
   ]
  },
  {
   "cell_type": "code",
   "execution_count": null,
   "metadata": {},
   "outputs": [],
   "source": [
    "# first find and replace all the - with blank\n",
    "df = df.replace('-','')\n",
    "\n",
    "# then attempt to conver all columns to numeric\n",
    "df = df.apply( lambda x: pd.to_numeric(x, errors='ignore') )"
   ]
  },
  {
   "cell_type": "code",
   "execution_count": null,
   "metadata": {},
   "outputs": [],
   "source": [
    "df.state_name.unique()"
   ]
  },
  {
   "cell_type": "code",
   "execution_count": null,
   "metadata": {},
   "outputs": [],
   "source": [
    "df.shape"
   ]
  },
  {
   "cell_type": "code",
   "execution_count": null,
   "metadata": {},
   "outputs": [],
   "source": [
    "list(df.columns)[:20]"
   ]
  },
  {
   "cell_type": "markdown",
   "metadata": {},
   "source": [
    "### What is the overall objective of project one? What does the client want?"
   ]
  },
  {
   "cell_type": "code",
   "execution_count": null,
   "metadata": {},
   "outputs": [],
   "source": []
  },
  {
   "cell_type": "markdown",
   "metadata": {},
   "source": [
    "### What are the types of metrics you could examine to achieve the objective?"
   ]
  },
  {
   "cell_type": "code",
   "execution_count": null,
   "metadata": {},
   "outputs": [],
   "source": []
  },
  {
   "cell_type": "markdown",
   "metadata": {},
   "source": [
    "### What categories are included for the types of water in this dataset?"
   ]
  },
  {
   "cell_type": "code",
   "execution_count": null,
   "metadata": {},
   "outputs": [],
   "source": []
  },
  {
   "cell_type": "markdown",
   "metadata": {},
   "source": [
    "### For each category, which metrics are provided?"
   ]
  },
  {
   "cell_type": "code",
   "execution_count": null,
   "metadata": {},
   "outputs": [],
   "source": []
  },
  {
   "cell_type": "markdown",
   "metadata": {},
   "source": [
    "### How many columns are in Millions of Gallons per day (Mgal/d)?"
   ]
  },
  {
   "cell_type": "code",
   "execution_count": null,
   "metadata": {},
   "outputs": [],
   "source": []
  },
  {
   "cell_type": "markdown",
   "metadata": {},
   "source": [
    "### Which county has the most water usage?"
   ]
  },
  {
   "cell_type": "code",
   "execution_count": null,
   "metadata": {},
   "outputs": [],
   "source": []
  },
  {
   "cell_type": "markdown",
   "metadata": {},
   "source": []
  },
  {
   "cell_type": "code",
   "execution_count": null,
   "metadata": {},
   "outputs": [],
   "source": []
  },
  {
   "cell_type": "code",
   "execution_count": null,
   "metadata": {},
   "outputs": [],
   "source": [
    "df.columns[:5]"
   ]
  },
  {
   "cell_type": "code",
   "execution_count": null,
   "metadata": {},
   "outputs": [],
   "source": [
    "df[list(df.columns[:10]) + ['Commercial deliveries from public supply, in Mgal/d']].head(10)"
   ]
  },
  {
   "cell_type": "markdown",
   "metadata": {},
   "source": [
    "### Which county is increasing in water usage the fastest?"
   ]
  },
  {
   "cell_type": "code",
   "execution_count": null,
   "metadata": {},
   "outputs": [],
   "source": []
  },
  {
   "cell_type": "markdown",
   "metadata": {},
   "source": [
    "# what is the total population of utah by year"
   ]
  },
  {
   "cell_type": "code",
   "execution_count": null,
   "metadata": {},
   "outputs": [],
   "source": [
    "df[\"Total Population total population of area, in thousands\"] = \\\n",
    "df[\"Total Population total population of area, in thousands\"].astype(float).fillna(0.0)"
   ]
  },
  {
   "cell_type": "code",
   "execution_count": null,
   "metadata": {},
   "outputs": [],
   "source": []
  },
  {
   "cell_type": "code",
   "execution_count": null,
   "metadata": {},
   "outputs": [],
   "source": [
    "pd.pivot_table(df,index=[\"year\"],\n",
    "               values=[\"Total Population total population of area, in thousands\"],\n",
    "               aggfunc=np.sum)"
   ]
  },
  {
   "cell_type": "markdown",
   "metadata": {},
   "source": [
    "# what is the total water usage in utah by year"
   ]
  },
  {
   "cell_type": "code",
   "execution_count": null,
   "metadata": {},
   "outputs": [],
   "source": [
    "tmp = pd.pivot_table(df,index=[\"year\"],\n",
    "               values=[\"Total Population total population of area, in thousands\",\n",
    "                       \"Public Supply total self-supplied withdrawals, fresh, in Mgal/d\"],\n",
    "               aggfunc=np.sum)\n",
    "\n",
    "col1 = tmp['Total Population total population of area, in thousands']\n",
    "col2 = tmp['Public Supply total self-supplied withdrawals, fresh, in Mgal/d']\n",
    "\n",
    "tmp['public supply per capita'] = col1/col2\n",
    "\n",
    "tmp"
   ]
  },
  {
   "cell_type": "code",
   "execution_count": null,
   "metadata": {},
   "outputs": [],
   "source": [
    "# by year, what is the total usage by category?"
   ]
  },
  {
   "cell_type": "code",
   "execution_count": null,
   "metadata": {},
   "outputs": [],
   "source": []
  },
  {
   "cell_type": "code",
   "execution_count": null,
   "metadata": {},
   "outputs": [],
   "source": [
    "# how many rows are missing in one column\n",
    "str( round( (df['Hydroelectric Power total power generated, in gigawatt-hours'].isnull().sum()) \\\n",
    "      / float(df.shape[0]) * 100 )) \\\n",
    "+ '%'"
   ]
  },
  {
   "cell_type": "code",
   "execution_count": null,
   "metadata": {},
   "outputs": [],
   "source": [
    "# what columns have high percentage of missing"
   ]
  },
  {
   "cell_type": "code",
   "execution_count": null,
   "metadata": {},
   "outputs": [],
   "source": []
  },
  {
   "cell_type": "code",
   "execution_count": null,
   "metadata": {},
   "outputs": [],
   "source": [
    "summary_array = df.isnull().sum(axis=0) / df.shape[0] * 100\n",
    "df2 = pd.DataFrame(summary_array)\n",
    "df2 = df2.round(0)\n",
    "df2.iloc[:,0].astype(str) + ' %'"
   ]
  },
  {
   "cell_type": "code",
   "execution_count": null,
   "metadata": {},
   "outputs": [],
   "source": [
    "# sort and find the best columns\n",
    "\n",
    "df2 = pd.DataFrame(df.isnull().sum(axis=0) / df.shape[0])\n",
    "df2['Pct'] = pd.Series([\"{0:.2f}%\".format(val * 100) for val in df2[0]], index = df2.index)\n",
    "df2."
   ]
  },
  {
   "cell_type": "code",
   "execution_count": null,
   "metadata": {},
   "outputs": [],
   "source": [
    "# count missing by row ...\n",
    "df['missing_on_row'] = df.count(axis=1)\n",
    "df[list(df.columns[:5])+['missing_on_row']]"
   ]
  },
  {
   "cell_type": "markdown",
   "metadata": {},
   "source": [
    "# viz"
   ]
  },
  {
   "cell_type": "code",
   "execution_count": null,
   "metadata": {},
   "outputs": [],
   "source": [
    "tmp = pd.pivot_table(df,index=[\"year\"],\n",
    "               values=[\"Total Population total population of area, in thousands\",\n",
    "                       \"Public Supply total self-supplied withdrawals, fresh, in Mgal/d\"],\n",
    "               aggfunc=np.sum)\n",
    "\n",
    "col1 = tmp['Total Population total population of area, in thousands']\n",
    "col2 = tmp['Public Supply total self-supplied withdrawals, fresh, in Mgal/d']\n",
    "\n",
    "tmp['public supply per capita'] = col2/col1\n",
    "\n",
    "tmp"
   ]
  },
  {
   "cell_type": "code",
   "execution_count": null,
   "metadata": {},
   "outputs": [],
   "source": [
    "# plot metric by year\n",
    "%matplotlib inline\n",
    "\n",
    "plot1 = tmp.iloc()[:,0:2].plot(title='Over Time' , legend=False)\n",
    "\n"
   ]
  },
  {
   "cell_type": "code",
   "execution_count": null,
   "metadata": {},
   "outputs": [],
   "source": [
    "plot1 = tmp.iloc()[:,2].plot(title='Per Capita change' , legend=False)"
   ]
  },
  {
   "cell_type": "markdown",
   "metadata": {},
   "source": [
    "The per capita of total self supplied withdrawals is decreasing for the entire state of Utah."
   ]
  },
  {
   "cell_type": "markdown",
   "metadata": {},
   "source": [
    "# which couties have increased the most?"
   ]
  },
  {
   "cell_type": "code",
   "execution_count": null,
   "metadata": {},
   "outputs": [],
   "source": [
    "tmp2 = pd.pivot_table(df,index=[\"year\",'county_nm'],\n",
    "               values=[\"Total Population total population of area, in thousands\",\n",
    "                       \"Public Supply total self-supplied withdrawals, fresh, in Mgal/d\"],\n",
    "               aggfunc=np.sum)\n",
    "\n",
    "col1 = tmp2['Total Population total population of area, in thousands']\n",
    "col2 = tmp2['Public Supply total self-supplied withdrawals, fresh, in Mgal/d']\n",
    "\n",
    "tmp2['public supply per capita'] = col2/col1\n",
    "\n",
    "tmp2"
   ]
  },
  {
   "cell_type": "code",
   "execution_count": null,
   "metadata": {},
   "outputs": [],
   "source": [
    "\n",
    "# pivot the table so every row is a year and columns are the counties\n",
    "tmp3 = tmp2.iloc()[:,2].unstack(level=-1)\n",
    "\n",
    "\n",
    "plot3 = tmp3.iloc()[:,:].plot(title='Per Capita change' , legend=False)"
   ]
  },
  {
   "cell_type": "code",
   "execution_count": null,
   "metadata": {},
   "outputs": [],
   "source": [
    "# which counties are decreasing the most?\n",
    "\n",
    "# a table with counties, the percent increase, and the total increase\n",
    "\n",
    "tmp4 = tmp2.iloc()[:,2].unstack(level=0)\n",
    "\n",
    "# how to add a column that is the mean over all years?\n",
    "tmp4['avg'] = tmp4.mean(numeric_only=True, axis=1)\n",
    "\n",
    "# by row sum all the columns then devide by num of columns\n",
    "# or by row take the mean of all columns \n",
    "\n",
    "\n",
    "# sort by the largest population change on top\n",
    "tmp4.sort_values('avg', ascending=False ).head(10)"
   ]
  },
  {
   "cell_type": "markdown",
   "metadata": {},
   "source": [
    "### What categories are included for the types of water in this dataset?"
   ]
  },
  {
   "cell_type": "code",
   "execution_count": null,
   "metadata": {},
   "outputs": [],
   "source": [
    "df.head()"
   ]
  },
  {
   "cell_type": "markdown",
   "metadata": {},
   "source": [
    "one option, first find the couties that move then move in"
   ]
  },
  {
   "cell_type": "code",
   "execution_count": null,
   "metadata": {},
   "outputs": [],
   "source": [
    "# how to find all the columns with 'total consumptive use'"
   ]
  },
  {
   "cell_type": "code",
   "execution_count": null,
   "metadata": {},
   "outputs": [],
   "source": [
    "consumptive_calls = [col for col in df.columns if 'total consumpt' in col]\n",
    "\n",
    "df[ list(df.columns[3:5]) + consumptive_calls]"
   ]
  },
  {
   "cell_type": "code",
   "execution_count": null,
   "metadata": {},
   "outputs": [],
   "source": [
    "# what is the aggregate consumptive use for all categories by county?"
   ]
  },
  {
   "cell_type": "code",
   "execution_count": null,
   "metadata": {},
   "outputs": [],
   "source": [
    "#  filter all rows for just the most recent year?\n",
    "df[ list(df.columns[3:5]) + consumptive_calls][df.year == 1995]"
   ]
  },
  {
   "cell_type": "code",
   "execution_count": null,
   "metadata": {},
   "outputs": [],
   "source": [
    "# sort by which are the biggest users by average volume"
   ]
  },
  {
   "cell_type": "code",
   "execution_count": null,
   "metadata": {},
   "outputs": [],
   "source": [
    "# take the top counties by average volume and plot them over time"
   ]
  },
  {
   "cell_type": "code",
   "execution_count": null,
   "metadata": {},
   "outputs": [],
   "source": [
    "plot3 = tmp3.iloc()[:,:].plot(title='Per Capita change' , legend=False)"
   ]
  },
  {
   "cell_type": "code",
   "execution_count": null,
   "metadata": {},
   "outputs": [],
   "source": [
    "cols_to_plot = [5,6,19]\n",
    "\n",
    "tmp3.iloc()[:,cols_to_plot]\n",
    "\n",
    "plot3 = tmp3.iloc()[:,cols_to_plot].plot(title='Per Capita change' , legend=False)"
   ]
  }
 ],
 "metadata": {
  "kernelspec": {
   "display_name": "Python 2",
   "language": "python",
   "name": "python2"
  },
  "language_info": {
   "codemirror_mode": {
    "name": "ipython",
    "version": 2
   },
   "file_extension": ".py",
   "mimetype": "text/x-python",
   "name": "python",
   "nbconvert_exporter": "python",
   "pygments_lexer": "ipython2",
   "version": "2.7.14"
  }
 },
 "nbformat": 4,
 "nbformat_minor": 2
}
